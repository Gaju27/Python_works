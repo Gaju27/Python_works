{
 "cells": [
  {
   "cell_type": "code",
   "execution_count": 1,
   "metadata": {},
   "outputs": [],
   "source": [
    "import numpy as np"
   ]
  },
  {
   "cell_type": "code",
   "execution_count": 2,
   "metadata": {},
   "outputs": [],
   "source": [
    "a=np.array([[1,2],[3,4],[5,6]])"
   ]
  },
  {
   "cell_type": "code",
   "execution_count": 4,
   "metadata": {},
   "outputs": [
    {
     "name": "stdout",
     "output_type": "stream",
     "text": [
      "array a:\n",
      " [[1 2]\n",
      " [3 4]\n",
      " [5 6]]\n",
      "array b:\n",
      " [1 4 5]\n"
     ]
    }
   ],
   "source": [
    "b=a[[0,1,2],[0,1,0]]\n",
    "print('array a:\\n',a)\n",
    "print('array b:\\n',b)"
   ]
  },
  {
   "cell_type": "markdown",
   "metadata": {},
   "source": [
    " #### [[1 2]  \n",
    " #### [3 4]  \n",
    " #### [5 6]]\n",
    " \n",
    "  ####  value [1 2] are in position [(0,0)(0,1)]\n",
    "  ####  value [3 4] are in position [(1,0)(1,1)]\n",
    "  ####  value [5 6] are in position [(2,0)(2,1)]\n",
    " \n",
    "  ####  When b=a[[0,1,2],\n",
    "   ####                  [0,1,0]]\n",
    " #### values of b for location in a are [(0,0)]=1\n",
    " ####                                                       [(1,1)]=4\n",
    "  ####                                                     [(2,0)]=5"
   ]
  },
  {
   "cell_type": "code",
   "execution_count": 5,
   "metadata": {},
   "outputs": [
    {
     "name": "stdout",
     "output_type": "stream",
     "text": [
      "Array a:\n",
      " [[10  9  8]\n",
      " [ 7  6  5]\n",
      " [ 4  3  2]\n",
      " [ 1 11 12]]\n"
     ]
    }
   ],
   "source": [
    "a=np.array([[10,9,8],[7,6,5],[4,3,2],[1,11,12]])\n",
    "print('Array a:\\n', a)"
   ]
  },
  {
   "cell_type": "code",
   "execution_count": 6,
   "metadata": {},
   "outputs": [
    {
     "name": "stdout",
     "output_type": "stream",
     "text": [
      "[[ 6  5]\n",
      " [ 3  2]\n",
      " [11 12]]\n"
     ]
    }
   ],
   "source": [
    "# Slicing \n",
    "b=a[1:4,1:3]\n",
    "print(b)"
   ]
  },
  {
   "cell_type": "code",
   "execution_count": 9,
   "metadata": {},
   "outputs": [
    {
     "name": "stdout",
     "output_type": "stream",
     "text": [
      "[[ 6  5]\n",
      " [ 3  2]\n",
      " [11 12]]\n"
     ]
    }
   ],
   "source": [
    "# Advanced slicing as below\n",
    "b=a[1:4,[1,2]]\n",
    "print(b)"
   ]
  },
  {
   "cell_type": "code",
   "execution_count": 10,
   "metadata": {},
   "outputs": [
    {
     "name": "stdout",
     "output_type": "stream",
     "text": [
      "[10  9  8  7  6 11 12]\n"
     ]
    }
   ],
   "source": [
    "# print the value greater than 5\n",
    "b=a[a>5]\n",
    "print(b)"
   ]
  },
  {
   "cell_type": "code",
   "execution_count": null,
   "metadata": {},
   "outputs": [],
   "source": []
  }
 ],
 "metadata": {
  "kernelspec": {
   "display_name": "Python 3",
   "language": "python",
   "name": "python3"
  },
  "language_info": {
   "codemirror_mode": {
    "name": "ipython",
    "version": 3
   },
   "file_extension": ".py",
   "mimetype": "text/x-python",
   "name": "python",
   "nbconvert_exporter": "python",
   "pygments_lexer": "ipython3",
   "version": "3.7.4"
  }
 },
 "nbformat": 4,
 "nbformat_minor": 2
}
