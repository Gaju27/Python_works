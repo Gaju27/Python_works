{
 "cells": [
  {
   "cell_type": "code",
   "execution_count": 1,
   "metadata": {},
   "outputs": [],
   "source": [
    "import numpy as np"
   ]
  },
  {
   "cell_type": "code",
   "execution_count": 2,
   "metadata": {
    "scrolled": false
   },
   "outputs": [
    {
     "name": "stdout",
     "output_type": "stream",
     "text": [
      "[0 1 2 3 4 5]\n"
     ]
    }
   ],
   "source": [
    "a=np.arange(6)\n",
    "print(a)"
   ]
  },
  {
   "cell_type": "markdown",
   "metadata": {},
   "source": [
    "## 1. Changing Shape"
   ]
  },
  {
   "cell_type": "markdown",
   "metadata": {},
   "source": [
    "### 1.1 numpy.reshape"
   ]
  },
  {
   "cell_type": "code",
   "execution_count": 3,
   "metadata": {},
   "outputs": [
    {
     "name": "stdout",
     "output_type": "stream",
     "text": [
      "[[0 1]\n",
      " [2 3]\n",
      " [4 5]]\n"
     ]
    }
   ],
   "source": [
    "b=a.reshape(3,2)\n",
    "print(b)"
   ]
  },
  {
   "cell_type": "code",
   "execution_count": 5,
   "metadata": {},
   "outputs": [
    {
     "name": "stdout",
     "output_type": "stream",
     "text": [
      "[[0 1 2]\n",
      " [3 4 5]]\n"
     ]
    }
   ],
   "source": [
    "b=a.reshape(2,3)\n",
    "print(b)"
   ]
  },
  {
   "cell_type": "markdown",
   "metadata": {},
   "source": [
    "### 1.2 numpy.ndarray.flat"
   ]
  },
  {
   "cell_type": "code",
   "execution_count": 6,
   "metadata": {},
   "outputs": [
    {
     "name": "stdout",
     "output_type": "stream",
     "text": [
      "[[0 1]\n",
      " [2 3]\n",
      " [4 5]\n",
      " [6 7]\n",
      " [8 9]]\n"
     ]
    }
   ],
   "source": [
    "c=np.arange(10).reshape(5,2)\n",
    "print(c)"
   ]
  },
  {
   "cell_type": "code",
   "execution_count": 7,
   "metadata": {},
   "outputs": [
    {
     "name": "stdout",
     "output_type": "stream",
     "text": [
      "now flatten this:\n",
      "6\n"
     ]
    }
   ],
   "source": [
    "print('now flat this:')\n",
    "d=c.flat[6]\n",
    "print(d)"
   ]
  },
  {
   "cell_type": "code",
   "execution_count": 11,
   "metadata": {},
   "outputs": [
    {
     "name": "stdout",
     "output_type": "stream",
     "text": [
      "Default is column major, order=\"c\"\n",
      "[0 1 2 3 4 5 6 7 8 9]\n"
     ]
    }
   ],
   "source": [
    "print('Default is column major, order=\"c\"')\n",
    "print(c.flatten())"
   ]
  },
  {
   "cell_type": "code",
   "execution_count": 12,
   "metadata": {},
   "outputs": [
    {
     "name": "stdout",
     "output_type": "stream",
     "text": [
      "F-style ordering:\n",
      " [0 2 4 6 8 1 3 5 7 9]\n"
     ]
    }
   ],
   "source": [
    "print('F-style ordering:\\n',c.flatten(order='F'))"
   ]
  },
  {
   "cell_type": "markdown",
   "metadata": {},
   "source": [
    "### 1.3 numpy.ravel"
   ]
  },
  {
   "cell_type": "code",
   "execution_count": 14,
   "metadata": {},
   "outputs": [
    {
     "name": "stdout",
     "output_type": "stream",
     "text": [
      "original array a: \n",
      " [[0 1]\n",
      " [2 3]\n",
      " [4 5]\n",
      " [6 7]\n",
      " [8 9]]\n"
     ]
    }
   ],
   "source": [
    "print('original array a: \\n', c)"
   ]
  },
  {
   "cell_type": "code",
   "execution_count": 15,
   "metadata": {},
   "outputs": [
    {
     "name": "stdout",
     "output_type": "stream",
     "text": [
      "After applyin ravel function: \n",
      " [0 1 2 3 4 5 6 7 8 9]\n"
     ]
    }
   ],
   "source": [
    "print('After applyin ravel function: \\n',c.ravel())"
   ]
  },
  {
   "cell_type": "code",
   "execution_count": 16,
   "metadata": {},
   "outputs": [
    {
     "name": "stdout",
     "output_type": "stream",
     "text": [
      "After applyin ravel function with F-style: \n",
      " [0 2 4 6 8 1 3 5 7 9]\n"
     ]
    }
   ],
   "source": [
    "print('After applyin ravel function with F-style: \\n',c.ravel(order='F'))"
   ]
  },
  {
   "cell_type": "markdown",
   "metadata": {},
   "source": [
    "## 2. Transpose Operations"
   ]
  },
  {
   "cell_type": "markdown",
   "metadata": {},
   "source": [
    "### 2.1 numpy.transpose"
   ]
  },
  {
   "cell_type": "code",
   "execution_count": 17,
   "metadata": {},
   "outputs": [
    {
     "name": "stdout",
     "output_type": "stream",
     "text": [
      "[[ 0  1  2  3]\n",
      " [ 4  5  6  7]\n",
      " [ 8  9 10 11]]\n"
     ]
    }
   ],
   "source": [
    "d=np.arange(12).reshape(3,4)\n",
    "print(d)"
   ]
  },
  {
   "cell_type": "code",
   "execution_count": 20,
   "metadata": {
    "scrolled": true
   },
   "outputs": [
    {
     "name": "stdout",
     "output_type": "stream",
     "text": [
      "[[ 0  4  8]\n",
      " [ 1  5  9]\n",
      " [ 2  6 10]\n",
      " [ 3  7 11]]\n"
     ]
    }
   ],
   "source": [
    "# now transpose this\n",
    "e=np.transpose(d)\n",
    "print(e)"
   ]
  },
  {
   "cell_type": "markdown",
   "metadata": {},
   "source": [
    "### 2.2 numpy.ndarray.T"
   ]
  },
  {
   "cell_type": "code",
   "execution_count": 24,
   "metadata": {},
   "outputs": [
    {
     "name": "stdout",
     "output_type": "stream",
     "text": [
      "[[ 0  1]\n",
      " [ 2  3]\n",
      " [ 4  5]\n",
      " [ 6  7]\n",
      " [ 8  9]\n",
      " [10 11]\n",
      " [12 13]\n",
      " [14 15]\n",
      " [16 17]\n",
      " [18 19]]\n"
     ]
    }
   ],
   "source": [
    "z=np.arange(20).reshape(10,2)\n",
    "print(z)"
   ]
  },
  {
   "cell_type": "code",
   "execution_count": 25,
   "metadata": {},
   "outputs": [
    {
     "name": "stdout",
     "output_type": "stream",
     "text": [
      "[[ 0  2  4  6  8 10 12 14 16 18]\n",
      " [ 1  3  5  7  9 11 13 15 17 19]]\n"
     ]
    }
   ],
   "source": [
    "y=z.T\n",
    "print(y)"
   ]
  },
  {
   "cell_type": "markdown",
   "metadata": {},
   "source": [
    "## 3. numpy.rollaxis"
   ]
  },
  {
   "cell_type": "markdown",
   "metadata": {},
   "source": [
    "### 3.1 numpy.rollaxis(arr, axis, start)"
   ]
  },
  {
   "cell_type": "code",
   "execution_count": 29,
   "metadata": {},
   "outputs": [
    {
     "name": "stdout",
     "output_type": "stream",
     "text": [
      "[[[0 1]\n",
      "  [2 3]]\n",
      "\n",
      " [[4 5]\n",
      "  [6 7]]]\n"
     ]
    }
   ],
   "source": [
    "a=np.arange(8).reshape(2,2,2)\n",
    "print(a)"
   ]
  },
  {
   "cell_type": "code",
   "execution_count": 30,
   "metadata": {},
   "outputs": [
    {
     "name": "stdout",
     "output_type": "stream",
     "text": [
      "After applying rollaxis function: [[[0 2]\n",
      "  [4 6]]\n",
      "\n",
      " [[1 3]\n",
      "  [5 7]]]\n"
     ]
    }
   ],
   "source": [
    "# to roll axis-2 to axis-0 (along width to along depth) \n",
    "print ('After applying rollaxis function:',np.rollaxis(a,2))"
   ]
  },
  {
   "cell_type": "code",
   "execution_count": 31,
   "metadata": {},
   "outputs": [
    {
     "name": "stdout",
     "output_type": "stream",
     "text": [
      "After applying rollaxis function: [[[0 2]\n",
      "  [1 3]]\n",
      "\n",
      " [[4 6]\n",
      "  [5 7]]]\n"
     ]
    }
   ],
   "source": [
    "print ('After applying rollaxis function:',np.rollaxis(a,2,1) )"
   ]
  },
  {
   "cell_type": "markdown",
   "metadata": {},
   "source": [
    "## 4. numpy.swapaxes"
   ]
  },
  {
   "cell_type": "markdown",
   "metadata": {},
   "source": [
    "### 4.1 numpy.swapaxes(arr, axis1, axis2)"
   ]
  },
  {
   "cell_type": "code",
   "execution_count": 34,
   "metadata": {},
   "outputs": [
    {
     "name": "stdout",
     "output_type": "stream",
     "text": [
      "[[[ 0  1  2]\n",
      "  [ 3  4  5]\n",
      "  [ 6  7  8]\n",
      "  [ 9 10 11]]\n",
      "\n",
      " [[12 13 14]\n",
      "  [15 16 17]\n",
      "  [18 19 20]\n",
      "  [21 22 23]]]\n"
     ]
    }
   ],
   "source": [
    "a = np.arange(24).reshape(2,4,3) \n",
    "print(a)"
   ]
  },
  {
   "cell_type": "code",
   "execution_count": 35,
   "metadata": {},
   "outputs": [
    {
     "name": "stdout",
     "output_type": "stream",
     "text": [
      "The array after applying the swapaxes function: [[[ 0 12]\n",
      "  [ 3 15]\n",
      "  [ 6 18]\n",
      "  [ 9 21]]\n",
      "\n",
      " [[ 1 13]\n",
      "  [ 4 16]\n",
      "  [ 7 19]\n",
      "  [10 22]]\n",
      "\n",
      " [[ 2 14]\n",
      "  [ 5 17]\n",
      "  [ 8 20]\n",
      "  [11 23]]]\n"
     ]
    }
   ],
   "source": [
    "# now swap numbers between axis 0 (along depth) and axis 2 (along width) \n",
    "print ('The array after applying the swapaxes function:',np.swapaxes(a,0,2))"
   ]
  },
  {
   "cell_type": "markdown",
   "metadata": {},
   "source": [
    "## 5. Changing Dimensions"
   ]
  },
  {
   "cell_type": "markdown",
   "metadata": {},
   "source": [
    "### 5.1 numpy.broadcast"
   ]
  },
  {
   "cell_type": "code",
   "execution_count": 36,
   "metadata": {},
   "outputs": [],
   "source": [
    "import numpy as np"
   ]
  },
  {
   "cell_type": "code",
   "execution_count": 37,
   "metadata": {},
   "outputs": [],
   "source": [
    "a = np.array([[1], [2], [3]]) \n",
    "b = np.array([4, 5, 6])  "
   ]
  },
  {
   "cell_type": "code",
   "execution_count": 40,
   "metadata": {},
   "outputs": [
    {
     "name": "stdout",
     "output_type": "stream",
     "text": [
      "a:\n",
      " [[1]\n",
      " [2]\n",
      " [3]]\n",
      "b:\n",
      " [4 5 6]\n"
     ]
    }
   ],
   "source": [
    "print(\"a:\\n\",a)\n",
    "print(\"b:\\n\",b)"
   ]
  },
  {
   "cell_type": "code",
   "execution_count": 41,
   "metadata": {},
   "outputs": [
    {
     "name": "stdout",
     "output_type": "stream",
     "text": [
      "<numpy.broadcast object at 0x0000017DAEF68810>\n"
     ]
    }
   ],
   "source": [
    "c=np.broadcast(a,b)\n",
    "print(c)"
   ]
  },
  {
   "cell_type": "code",
   "execution_count": 44,
   "metadata": {},
   "outputs": [
    {
     "name": "stdout",
     "output_type": "stream",
     "text": [
      "Broadcast a and b\n",
      "1 4\n",
      "1 5\n",
      "\n",
      "\n"
     ]
    }
   ],
   "source": [
    "print('Broadcast a and b')\n",
    "d,e = c.iters \n",
    "print (next(d), next(e)) \n",
    "print (next(d), next(e))\n",
    "print('\\n')"
   ]
  },
  {
   "cell_type": "code",
   "execution_count": 46,
   "metadata": {},
   "outputs": [
    {
     "name": "stdout",
     "output_type": "stream",
     "text": [
      "The shape of the broadcast object: (3, 3)\n"
     ]
    }
   ],
   "source": [
    "print ('The shape of the broadcast object:' ,c.shape)"
   ]
  },
  {
   "cell_type": "code",
   "execution_count": 1,
   "metadata": {},
   "outputs": [],
   "source": [
    "import numpy as np"
   ]
  },
  {
   "cell_type": "markdown",
   "metadata": {},
   "source": [
    "### 5.2 numpy.expand_dims\n",
    "    numpy.expand_dims(arr, axis)\n",
    "    arr--> Array\n",
    "    axis--> Position where new axis to be inserted"
   ]
  },
  {
   "cell_type": "code",
   "execution_count": 2,
   "metadata": {},
   "outputs": [],
   "source": [
    "a=np.array(([1,2],[3,4]))"
   ]
  },
  {
   "cell_type": "code",
   "execution_count": 4,
   "metadata": {},
   "outputs": [
    {
     "name": "stdout",
     "output_type": "stream",
     "text": [
      "Array a:\n",
      "  [[1 2]\n",
      " [3 4]]\n"
     ]
    }
   ],
   "source": [
    "print(\"Array a:\\n \",a)"
   ]
  },
  {
   "cell_type": "code",
   "execution_count": 5,
   "metadata": {},
   "outputs": [
    {
     "name": "stdout",
     "output_type": "stream",
     "text": [
      "Array b:\n",
      " [[[1 2]\n",
      "  [3 4]]]\n"
     ]
    }
   ],
   "source": [
    "b=np.expand_dims(a,axis=0)\n",
    "print(\"Array b:\\n\",b)"
   ]
  },
  {
   "cell_type": "code",
   "execution_count": 10,
   "metadata": {},
   "outputs": [
    {
     "name": "stdout",
     "output_type": "stream",
     "text": [
      "Shape of a: %d\n",
      " and \n",
      "shape of b: %d\n",
      " (2, 2) (1, 2, 2)\n"
     ]
    }
   ],
   "source": [
    "print(\"Shape of a: %d\\n and \\nshape of b: %d\\n\",a.shape,b.shape)"
   ]
  },
  {
   "cell_type": "code",
   "execution_count": 11,
   "metadata": {},
   "outputs": [
    {
     "name": "stdout",
     "output_type": "stream",
     "text": [
      "now insert at axis=1 location\n",
      "Array b:\n",
      " [[[1 2]]\n",
      "\n",
      " [[3 4]]]\n"
     ]
    }
   ],
   "source": [
    "print('now insert at axis=1 location')\n",
    "b=np.expand_dims(a,axis=1)\n",
    "print(\"Array b:\\n\",b)"
   ]
  },
  {
   "cell_type": "code",
   "execution_count": 12,
   "metadata": {},
   "outputs": [
    {
     "name": "stdout",
     "output_type": "stream",
     "text": [
      "shape of b: (2, 1, 2)\n"
     ]
    }
   ],
   "source": [
    "print(\"shape of b:\",b.shape)"
   ]
  },
  {
   "cell_type": "code",
   "execution_count": 14,
   "metadata": {},
   "outputs": [
    {
     "name": "stdout",
     "output_type": "stream",
     "text": [
      "lets find out the dimension of a & b:\n",
      "\n",
      "a dim:  2  b dim:  3\n"
     ]
    }
   ],
   "source": [
    "print('lets find out the dimension of a & b:\\n')\n",
    "print('a dim: ',a.ndim,' b dim: ',b.ndim)"
   ]
  },
  {
   "cell_type": "markdown",
   "metadata": {},
   "source": [
    "### 5.3 numpy.squeeze\n",
    "    numpy.squeeze(arr, axis)\n",
    "    arr--> Array\n",
    "    axia--> int or tuple of int. selects a subset of single dimensional entries in the shape"
   ]
  },
  {
   "cell_type": "code",
   "execution_count": 26,
   "metadata": {},
   "outputs": [
    {
     "name": "stdout",
     "output_type": "stream",
     "text": [
      "Array a: \n",
      " [[[ 0  1]\n",
      "  [ 2  3]\n",
      "  [ 4  5]\n",
      "  [ 6  7]\n",
      "  [ 8  9]\n",
      "  [10 11]]]\n",
      "Array a shape:  (1, 6, 2)\n",
      "Array a dim:  3\n"
     ]
    }
   ],
   "source": [
    "a=np.arange(12).reshape(1,6,2)\n",
    "print(\"Array a: \\n\",a)\n",
    "print('Array a shape: ',a.shape)\n",
    "print('Array a dim: ',a.ndim)"
   ]
  },
  {
   "cell_type": "code",
   "execution_count": 27,
   "metadata": {},
   "outputs": [
    {
     "name": "stdout",
     "output_type": "stream",
     "text": [
      "now call squeeze method:\n",
      "Array b: \n",
      " [[ 0  1]\n",
      " [ 2  3]\n",
      " [ 4  5]\n",
      " [ 6  7]\n",
      " [ 8  9]\n",
      " [10 11]]\n",
      "Array b shape:  (6, 2)\n",
      "Array b dim:  2\n"
     ]
    }
   ],
   "source": [
    "print('now call squeeze method:')\n",
    "b=np.squeeze(a)\n",
    "print('Array b: \\n',b)\n",
    "print('Array b shape: ',b.shape)\n",
    "print('Array b dim: ',b.ndim)"
   ]
  },
  {
   "cell_type": "markdown",
   "metadata": {},
   "source": [
    "## 6. Joining Arrays"
   ]
  },
  {
   "cell_type": "markdown",
   "metadata": {},
   "source": [
    "### 6.1 numpy.concatenate\n",
    "    Joining two or more arrays with same shape and specified axis defined. \n",
    "    numpy.concatenate((a1, a2, ...an), axis)\n",
    "    a1,a2..an-->Arrays\n",
    "    axis-->Default 0, to which axis to be joined"
   ]
  },
  {
   "cell_type": "code",
   "execution_count": 33,
   "metadata": {},
   "outputs": [
    {
     "name": "stdout",
     "output_type": "stream",
     "text": [
      "Array a:\n",
      " [[ 1  2]\n",
      " [ 3  4]\n",
      " [10 12]]\n",
      "Array a Shape:  (3, 2)\n",
      "Array a dimension:  2\n"
     ]
    }
   ],
   "source": [
    "import numpy as np\n",
    "a=np.array([[1,2],[3,4],[10,12]])\n",
    "print('Array a:\\n',a)\n",
    "print('Array a Shape: ',a.shape)\n",
    "print('Array a dimension: ',a.ndim)"
   ]
  },
  {
   "cell_type": "code",
   "execution_count": 34,
   "metadata": {},
   "outputs": [
    {
     "name": "stdout",
     "output_type": "stream",
     "text": [
      "now define another array b:\n",
      "Array b: \n",
      " [[12 34]\n",
      " [32 45]\n",
      " [77 89]]\n",
      "Array b shape:  (3, 2)\n",
      "Array b dimension:  2\n"
     ]
    }
   ],
   "source": [
    "print('now define another array b:')\n",
    "b=np.array([[12,34],[32,45],[77,89]])\n",
    "print('Array b: \\n',b)\n",
    "print('Array b shape: ',b.shape)\n",
    "print('Array b dimension: ',b.ndim)"
   ]
  },
  {
   "cell_type": "code",
   "execution_count": 36,
   "metadata": {},
   "outputs": [
    {
     "name": "stdout",
     "output_type": "stream",
     "text": [
      "now joining array a and b to axis=0\n",
      "Array c Concatenate:\n",
      " [[ 1  2]\n",
      " [ 3  4]\n",
      " [10 12]\n",
      " [12 34]\n",
      " [32 45]\n",
      " [77 89]]\n",
      "Array c shape:  (6, 2)\n",
      "Array c dimension:  2\n"
     ]
    }
   ],
   "source": [
    "print('now joining array a and b to axis=0')\n",
    "c=np.concatenate((a,b))\n",
    "print('Array c Concatenate:\\n',c)\n",
    "print('Array c shape: ',c.shape)\n",
    "print('Array c dimension: ',c.ndim)"
   ]
  },
  {
   "cell_type": "code",
   "execution_count": 37,
   "metadata": {},
   "outputs": [
    {
     "name": "stdout",
     "output_type": "stream",
     "text": [
      "now joining array a and b to axis=1\n",
      "Array d: \n",
      " [[ 1  2 12 34]\n",
      " [ 3  4 32 45]\n",
      " [10 12 77 89]]\n",
      "Array d shape:  (3, 4)\n",
      "Array d dimension:  2\n"
     ]
    }
   ],
   "source": [
    "print('now joining array a and b to axis=1')\n",
    "d=np.concatenate((a,b),axis=1)\n",
    "print('Array d: \\n',d)\n",
    "print('Array d shape: ',d.shape)\n",
    "print('Array d dimension: ',d.ndim)"
   ]
  },
  {
   "cell_type": "code",
   "execution_count": 41,
   "metadata": {},
   "outputs": [
    {
     "name": "stdout",
     "output_type": "stream",
     "text": [
      "now joining array a and b to axis=2\n",
      "Array f: \n",
      " [[ 1  2 12 34]\n",
      " [ 3  4 32 45]\n",
      " [10 12 77 89]]\n",
      "Array f shape:  (3, 4)\n",
      "Array f dimension:  2\n"
     ]
    }
   ],
   "source": [
    "print('now joining array a and b to axis=2')\n",
    "f=np.concatenate((a,b),axis=1)\n",
    "print('Array f: \\n',d)\n",
    "print('Array f shape: ',f.shape)\n",
    "print('Array f dimension: ',f.ndim)"
   ]
  },
  {
   "cell_type": "markdown",
   "metadata": {},
   "source": [
    "### 6.2 numpy.stack\n",
    "    Joine to new axis defined\n",
    "    numpy.stack(arrays, axis)"
   ]
  },
  {
   "cell_type": "code",
   "execution_count": 50,
   "metadata": {},
   "outputs": [
    {
     "name": "stdout",
     "output_type": "stream",
     "text": [
      "Array a:\n",
      " [[9 5]\n",
      " [3 6]]\n",
      "Array a shape:  (2, 2)\n",
      "Array a dimension:  2\n"
     ]
    }
   ],
   "source": [
    "import numpy as np\n",
    "a=np.array([[9,5],[3,6]])\n",
    "print('Array a:\\n',a)\n",
    "print('Array a shape: ',a.shape)\n",
    "print('Array a dimension: ',a.ndim)"
   ]
  },
  {
   "cell_type": "code",
   "execution_count": 52,
   "metadata": {},
   "outputs": [
    {
     "name": "stdout",
     "output_type": "stream",
     "text": [
      "Array b: \n",
      " [[1 8]\n",
      " [0 4]]\n",
      "Array b shpae:  (2, 2)\n",
      "Array b dimension:  2\n"
     ]
    }
   ],
   "source": [
    "b=np.array([[1,8],[0,4]])\n",
    "print('Array b: \\n',b)\n",
    "print('Array b shpae: ',b.shape)\n",
    "print('Array b dimension: ',b.ndim)"
   ]
  },
  {
   "cell_type": "code",
   "execution_count": 53,
   "metadata": {},
   "outputs": [
    {
     "name": "stdout",
     "output_type": "stream",
     "text": [
      "now stack array a and b to axis=0\n",
      "Array c:\n",
      " [[[9 5]\n",
      "  [3 6]]\n",
      "\n",
      " [[1 8]\n",
      "  [0 4]]]\n",
      "Array c shape:  (2, 2, 2)\n",
      "Array c dimension:  3\n"
     ]
    }
   ],
   "source": [
    "print('now stack array a and b to axis=0')\n",
    "c=np.stack((a,b),0)\n",
    "print('Array c:\\n',c)\n",
    "print('Array c shape: ',c.shape)\n",
    "print('Array c dimension: ',c.ndim)"
   ]
  },
  {
   "cell_type": "code",
   "execution_count": 54,
   "metadata": {},
   "outputs": [
    {
     "name": "stdout",
     "output_type": "stream",
     "text": [
      "now stack array a and b to axis=1\n",
      "Array d:\n",
      " [[[9 5]\n",
      "  [1 8]]\n",
      "\n",
      " [[3 6]\n",
      "  [0 4]]]\n",
      "Array d shape:  (2, 2, 2)\n",
      "Array d dimension:  3\n"
     ]
    }
   ],
   "source": [
    "print('now stack array a and b to axis=1')\n",
    "d=np.stack((a,b),1)\n",
    "print('Array d:\\n',d)\n",
    "print('Array d shape: ',d.shape)\n",
    "print('Array d dimension: ',d.ndim)"
   ]
  },
  {
   "cell_type": "markdown",
   "metadata": {},
   "source": [
    "### 6.3 numpy.hstack\n",
    "    Make single array horizantal"
   ]
  },
  {
   "cell_type": "code",
   "execution_count": 55,
   "metadata": {},
   "outputs": [
    {
     "name": "stdout",
     "output_type": "stream",
     "text": [
      "Array a:\n",
      " [[1 4]\n",
      " [7 9]\n",
      " [2 3]]\n",
      "Array a shape:  (3, 2)\n",
      "Array a dimension:  2\n"
     ]
    }
   ],
   "source": [
    "a=np.array([[1,4],[7,9],[2,3]])\n",
    "print('Array a:\\n',a)\n",
    "print('Array a shape: ',a.shape)\n",
    "print('Array a dimension: ',a.ndim)"
   ]
  },
  {
   "cell_type": "code",
   "execution_count": 56,
   "metadata": {},
   "outputs": [
    {
     "name": "stdout",
     "output_type": "stream",
     "text": [
      "Array b: \n",
      " [[ 1  8]\n",
      " [ 0 14]\n",
      " [11 17]]\n",
      "Array b shpae:  (3, 2)\n",
      "Array b dimension:  2\n"
     ]
    }
   ],
   "source": [
    "b=np.array([[1,8],[0,14],[11,17]])\n",
    "print('Array b: \\n',b)\n",
    "print('Array b shpae: ',b.shape)\n",
    "print('Array b dimension: ',b.ndim)"
   ]
  },
  {
   "cell_type": "code",
   "execution_count": 59,
   "metadata": {},
   "outputs": [
    {
     "name": "stdout",
     "output_type": "stream",
     "text": [
      "Array Horizontal stacking c:\n",
      " [[ 1  4  1  8]\n",
      " [ 7  9  0 14]\n",
      " [ 2  3 11 17]]\n",
      "Array c shape:  (3, 4)\n",
      "Array c dimension:  2\n"
     ]
    }
   ],
   "source": [
    "c=np.hstack((a,b))\n",
    "print('Array Horizontal stacking c:\\n',c)\n",
    "print('Array c shape: ',c.shape)\n",
    "print('Array c dimension: ',c.ndim)"
   ]
  },
  {
   "cell_type": "markdown",
   "metadata": {},
   "source": [
    "### 6.4 numpy.vstack\n",
    "    Make single array vertical"
   ]
  },
  {
   "cell_type": "code",
   "execution_count": 60,
   "metadata": {},
   "outputs": [
    {
     "name": "stdout",
     "output_type": "stream",
     "text": [
      "Array a:\n",
      " [[1 4]\n",
      " [7 9]\n",
      " [2 3]]\n",
      "Array a shape:  (3, 2)\n",
      "Array a dimension:  2\n"
     ]
    }
   ],
   "source": [
    "a=np.array([[1,4],[7,9],[2,3]])\n",
    "print('Array a:\\n',a)\n",
    "print('Array a shape: ',a.shape)\n",
    "print('Array a dimension: ',a.ndim)"
   ]
  },
  {
   "cell_type": "code",
   "execution_count": 61,
   "metadata": {},
   "outputs": [
    {
     "name": "stdout",
     "output_type": "stream",
     "text": [
      "Array b: \n",
      " [[ 1  8]\n",
      " [ 0 14]\n",
      " [11 17]]\n",
      "Array b shpae:  (3, 2)\n",
      "Array b dimension:  2\n"
     ]
    }
   ],
   "source": [
    "b=np.array([[1,8],[0,14],[11,17]])\n",
    "print('Array b: \\n',b)\n",
    "print('Array b shpae: ',b.shape)\n",
    "print('Array b dimension: ',b.ndim)"
   ]
  },
  {
   "cell_type": "code",
   "execution_count": 62,
   "metadata": {},
   "outputs": [
    {
     "name": "stdout",
     "output_type": "stream",
     "text": [
      "Array vertical stacking c:\n",
      " [[ 1  4]\n",
      " [ 7  9]\n",
      " [ 2  3]\n",
      " [ 1  8]\n",
      " [ 0 14]\n",
      " [11 17]]\n",
      "Array c shape:  (6, 2)\n",
      "Array c dimension:  2\n"
     ]
    }
   ],
   "source": [
    "c=np.vstack((a,b))\n",
    "print('Array vertical stacking c:\\n',c)\n",
    "print('Array c shape: ',c.shape)\n",
    "print('Array c dimension: ',c.ndim)"
   ]
  },
  {
   "cell_type": "markdown",
   "metadata": {},
   "source": [
    "## 7 Splitting Arrays"
   ]
  },
  {
   "cell_type": "markdown",
   "metadata": {},
   "source": [
    "### 7.1 numpy.split\n",
    "    Split array into subarrays for defined axis"
   ]
  },
  {
   "cell_type": "code",
   "execution_count": 64,
   "metadata": {},
   "outputs": [
    {
     "name": "stdout",
     "output_type": "stream",
     "text": [
      "Array a:\n",
      " [ 0  1  2  3  4  5  6  7  8  9 10 11 12 13 14 15]\n",
      "Array a shape:  (16,)\n",
      "Array a dimension:  1\n"
     ]
    }
   ],
   "source": [
    "a=np.arange(16)\n",
    "print('Array a:\\n',a)\n",
    "print('Array a shape: ',a.shape)\n",
    "print('Array a dimension: ',a.ndim)"
   ]
  },
  {
   "cell_type": "code",
   "execution_count": 67,
   "metadata": {},
   "outputs": [
    {
     "name": "stdout",
     "output_type": "stream",
     "text": [
      "Array b: \n",
      " [array([0, 1, 2, 3]), array([4, 5, 6, 7]), array([ 8,  9, 10, 11]), array([12, 13, 14, 15])]\n"
     ]
    }
   ],
   "source": [
    "b=np.split(a,4)\n",
    "print('Array b splited in 4 equal size \\n',b)"
   ]
  },
  {
   "cell_type": "code",
   "execution_count": 69,
   "metadata": {},
   "outputs": [
    {
     "name": "stdout",
     "output_type": "stream",
     "text": [
      "now split at position defined\n",
      "Array b splited at position [7,10]:  \n",
      " [array([0, 1, 2, 3, 4, 5, 6]), array([7, 8, 9]), array([10, 11, 12, 13, 14, 15])]\n"
     ]
    }
   ],
   "source": [
    "print('now split at position defined')\n",
    "c=np.split(a,[7,10])\n",
    "print('Array b splited at position [7,10]:  \\n',c)"
   ]
  },
  {
   "cell_type": "code",
   "execution_count": 79,
   "metadata": {},
   "outputs": [
    {
     "name": "stdout",
     "output_type": "stream",
     "text": [
      "now split at axis=1 defined\n",
      "Array b split at axis=1 defined:  \n",
      " [array([0, 1]), array([2, 3]), array([4, 5]), array([6, 7]), array([8, 9]), array([10, 11]), array([12, 13]), array([14, 15])]\n"
     ]
    }
   ],
   "source": [
    "print('now split at axis=1 defined')\n",
    "f=np.split(a,8,0)\n",
    "print('Array b split at axis=1 defined:  \\n',f)"
   ]
  },
  {
   "cell_type": "markdown",
   "metadata": {},
   "source": [
    "### 7.2 numpy.hsplit\n",
    "     column wise split"
   ]
  },
  {
   "cell_type": "code",
   "execution_count": 84,
   "metadata": {},
   "outputs": [
    {
     "name": "stdout",
     "output_type": "stream",
     "text": [
      "Array a:\n",
      " [[ 0  1  2  3  4  5  6  7]\n",
      " [ 8  9 10 11 12 13 14 15]\n",
      " [16 17 18 19 20 21 22 23]\n",
      " [24 25 26 27 28 29 30 31]\n",
      " [32 33 34 35 36 37 38 39]\n",
      " [40 41 42 43 44 45 46 47]\n",
      " [48 49 50 51 52 53 54 55]\n",
      " [56 57 58 59 60 61 62 63]]\n",
      "Array a shape:  (8, 8)\n",
      "Array a dimension:  2\n"
     ]
    }
   ],
   "source": [
    "a=np.arange(64).reshape(8,8)\n",
    "print('Array a:\\n',a)\n",
    "print('Array a shape: ',a.shape)\n",
    "print('Array a dimension: ',a.ndim)"
   ]
  },
  {
   "cell_type": "code",
   "execution_count": 87,
   "metadata": {},
   "outputs": [
    {
     "name": "stdout",
     "output_type": "stream",
     "text": [
      "Array b horizantal split:  \n",
      " [array([[ 0,  1],\n",
      "       [ 8,  9],\n",
      "       [16, 17],\n",
      "       [24, 25],\n",
      "       [32, 33],\n",
      "       [40, 41],\n",
      "       [48, 49],\n",
      "       [56, 57]]), array([[ 2,  3],\n",
      "       [10, 11],\n",
      "       [18, 19],\n",
      "       [26, 27],\n",
      "       [34, 35],\n",
      "       [42, 43],\n",
      "       [50, 51],\n",
      "       [58, 59]]), array([[ 4,  5],\n",
      "       [12, 13],\n",
      "       [20, 21],\n",
      "       [28, 29],\n",
      "       [36, 37],\n",
      "       [44, 45],\n",
      "       [52, 53],\n",
      "       [60, 61]]), array([[ 6,  7],\n",
      "       [14, 15],\n",
      "       [22, 23],\n",
      "       [30, 31],\n",
      "       [38, 39],\n",
      "       [46, 47],\n",
      "       [54, 55],\n",
      "       [62, 63]])]\n"
     ]
    }
   ],
   "source": [
    "b = np.hsplit(a,4)\n",
    "print('Array b horizantal split:  \\n',b)"
   ]
  },
  {
   "cell_type": "markdown",
   "metadata": {},
   "source": [
    "### 7.2 numpy.vsplit\n",
    "     row wise split"
   ]
  },
  {
   "cell_type": "code",
   "execution_count": 88,
   "metadata": {},
   "outputs": [
    {
     "name": "stdout",
     "output_type": "stream",
     "text": [
      "Array c vertical split:  \n",
      " [array([[ 0,  1,  2,  3,  4,  5,  6,  7],\n",
      "       [ 8,  9, 10, 11, 12, 13, 14, 15]]), array([[16, 17, 18, 19, 20, 21, 22, 23],\n",
      "       [24, 25, 26, 27, 28, 29, 30, 31]]), array([[32, 33, 34, 35, 36, 37, 38, 39],\n",
      "       [40, 41, 42, 43, 44, 45, 46, 47]]), array([[48, 49, 50, 51, 52, 53, 54, 55],\n",
      "       [56, 57, 58, 59, 60, 61, 62, 63]])]\n"
     ]
    }
   ],
   "source": [
    "c = np.vsplit(a,4)\n",
    "print('Array c vertical split:  \\n',c)"
   ]
  },
  {
   "cell_type": "markdown",
   "metadata": {},
   "source": [
    "## 8 Adding / Removing Elements"
   ]
  },
  {
   "cell_type": "markdown",
   "metadata": {},
   "source": [
    "### 8.1 numpy.resize"
   ]
  },
  {
   "cell_type": "code",
   "execution_count": 90,
   "metadata": {},
   "outputs": [
    {
     "name": "stdout",
     "output_type": "stream",
     "text": [
      "Array a shape:  (8, 8)\n",
      "Resized array f: \n",
      " [[0 1]\n",
      " [2 3]\n",
      " [4 5]]\n"
     ]
    }
   ],
   "source": [
    "f=np.resize(a,(3,2))\n",
    "print('Array a shape: ',a.shape)\n",
    "print('Resized array f: \\n',f)"
   ]
  },
  {
   "cell_type": "code",
   "execution_count": 91,
   "metadata": {},
   "outputs": [
    {
     "name": "stdout",
     "output_type": "stream",
     "text": [
      "Array a: \n",
      " [[ 0  1  2  3  4  5  6  7]\n",
      " [ 8  9 10 11 12 13 14 15]\n",
      " [16 17 18 19 20 21 22 23]\n",
      " [24 25 26 27 28 29 30 31]\n",
      " [32 33 34 35 36 37 38 39]\n",
      " [40 41 42 43 44 45 46 47]\n",
      " [48 49 50 51 52 53 54 55]\n",
      " [56 57 58 59 60 61 62 63]]\n"
     ]
    }
   ],
   "source": [
    "print('Array a: \\n',a)"
   ]
  },
  {
   "cell_type": "code",
   "execution_count": 93,
   "metadata": {},
   "outputs": [
    {
     "name": "stdout",
     "output_type": "stream",
     "text": [
      "now resize to higher size:\n",
      "Array a shape:  (8, 8)\n",
      "Resized array g: \n",
      " [[ 0  1  2  3  4  5  6  7  8  9]\n",
      " [10 11 12 13 14 15 16 17 18 19]\n",
      " [20 21 22 23 24 25 26 27 28 29]\n",
      " [30 31 32 33 34 35 36 37 38 39]\n",
      " [40 41 42 43 44 45 46 47 48 49]\n",
      " [50 51 52 53 54 55 56 57 58 59]\n",
      " [60 61 62 63  0  1  2  3  4  5]\n",
      " [ 6  7  8  9 10 11 12 13 14 15]\n",
      " [16 17 18 19 20 21 22 23 24 25]]\n"
     ]
    }
   ],
   "source": [
    "print('now resize to higher size:')\n",
    "g=np.resize(a,(9,10))\n",
    "print('Array a shape: ',a.shape)\n",
    "print('Resized array g: \\n',g)"
   ]
  },
  {
   "cell_type": "code",
   "execution_count": 94,
   "metadata": {},
   "outputs": [
    {
     "name": "stdout",
     "output_type": "stream",
     "text": [
      "Array g shape:  (9, 10)\n"
     ]
    }
   ],
   "source": [
    "print('Array g shape: ',g.shape)"
   ]
  },
  {
   "cell_type": "markdown",
   "metadata": {},
   "source": [
    "### 8.2 numpy.append\n",
    "    Dimension alway has to match \n",
    "    we can specify the axis location to append"
   ]
  },
  {
   "cell_type": "code",
   "execution_count": 96,
   "metadata": {},
   "outputs": [
    {
     "name": "stdout",
     "output_type": "stream",
     "text": [
      "Array a:\n",
      " [[1 2 3]\n",
      " [4 5 6]]\n",
      "Array a shape:  (2, 3)\n",
      "Array a dimension:  2\n"
     ]
    }
   ],
   "source": [
    "a=np.array([[1,2,3],[4,5,6]])\n",
    "print('Array a:\\n',a)\n",
    "print('Array a shape: ',a.shape)\n",
    "print('Array a dimension: ',a.ndim)"
   ]
  },
  {
   "cell_type": "code",
   "execution_count": 97,
   "metadata": {},
   "outputs": [
    {
     "name": "stdout",
     "output_type": "stream",
     "text": [
      "now append [9,8,7]\n",
      "Array b: \n",
      " [1 2 3 4 5 6 9 8 7]\n",
      "Array b shpae:  (9,)\n",
      "Array b dimension:  1\n"
     ]
    }
   ],
   "source": [
    "print('now append [9,8,7]')\n",
    "b=np.append(a,[9,8,7])\n",
    "print('Array b: \\n',b)\n",
    "print('Array b shpae: ',b.shape)\n",
    "print('Array b dimension: ',b.ndim)"
   ]
  },
  {
   "cell_type": "code",
   "execution_count": 99,
   "metadata": {},
   "outputs": [
    {
     "name": "stdout",
     "output_type": "stream",
     "text": [
      "now append [9,8,7] to axis=0\n",
      "Array b: \n",
      " [[1 2 3]\n",
      " [4 5 6]\n",
      " [9 8 7]]\n",
      "Array b shpae:  (3, 3)\n",
      "Array b dimension:  2\n"
     ]
    }
   ],
   "source": [
    "print('now append [9,8,7] to axis=0')\n",
    "b=np.append(a,[[9,8,7]],axis=0)\n",
    "print('Array b: \\n',b)\n",
    "print('Array b shpae: ',b.shape)\n",
    "print('Array b dimension: ',b.ndim)"
   ]
  },
  {
   "cell_type": "code",
   "execution_count": 102,
   "metadata": {},
   "outputs": [
    {
     "name": "stdout",
     "output_type": "stream",
     "text": [
      "now append [[9,8,7],[1,4,8]] to axis=1\n",
      "Array b: \n",
      " [[1 2 3 9 8 7]\n",
      " [4 5 6 1 4 8]]\n",
      "Array b shpae:  (2, 6)\n",
      "Array b dimension:  2\n"
     ]
    }
   ],
   "source": [
    "print('now append [[9,8,7],[1,4,8]] to axis=1')\n",
    "b=np.append(a,[[9,8,7],[1,4,8]],axis=1)\n",
    "print('Array b: \\n',b)\n",
    "print('Array b shpae: ',b.shape)\n",
    "print('Array b dimension: ',b.ndim)"
   ]
  },
  {
   "cell_type": "code",
   "execution_count": 103,
   "metadata": {
    "scrolled": true
   },
   "outputs": [
    {
     "name": "stdout",
     "output_type": "stream",
     "text": [
      "now append [[9,8,7],[1,4,8]] to axis=2\n"
     ]
    },
    {
     "ename": "AxisError",
     "evalue": "axis 2 is out of bounds for array of dimension 2",
     "output_type": "error",
     "traceback": [
      "\u001b[1;31m---------------------------------------------------------------------------\u001b[0m",
      "\u001b[1;31mAxisError\u001b[0m                                 Traceback (most recent call last)",
      "\u001b[1;32m<ipython-input-103-d451f2d3beda>\u001b[0m in \u001b[0;36m<module>\u001b[1;34m\u001b[0m\n\u001b[0;32m      1\u001b[0m \u001b[0mprint\u001b[0m\u001b[1;33m(\u001b[0m\u001b[1;34m'now append [[9,8,7],[1,4,8]] to axis=2'\u001b[0m\u001b[1;33m)\u001b[0m\u001b[1;33m\u001b[0m\u001b[1;33m\u001b[0m\u001b[0m\n\u001b[1;32m----> 2\u001b[1;33m \u001b[0mb\u001b[0m\u001b[1;33m=\u001b[0m\u001b[0mnp\u001b[0m\u001b[1;33m.\u001b[0m\u001b[0mappend\u001b[0m\u001b[1;33m(\u001b[0m\u001b[0ma\u001b[0m\u001b[1;33m,\u001b[0m\u001b[1;33m[\u001b[0m\u001b[1;33m[\u001b[0m\u001b[1;36m9\u001b[0m\u001b[1;33m,\u001b[0m\u001b[1;36m8\u001b[0m\u001b[1;33m,\u001b[0m\u001b[1;36m7\u001b[0m\u001b[1;33m]\u001b[0m\u001b[1;33m,\u001b[0m\u001b[1;33m[\u001b[0m\u001b[1;36m1\u001b[0m\u001b[1;33m,\u001b[0m\u001b[1;36m4\u001b[0m\u001b[1;33m,\u001b[0m\u001b[1;36m8\u001b[0m\u001b[1;33m]\u001b[0m\u001b[1;33m,\u001b[0m\u001b[1;33m[\u001b[0m\u001b[1;36m9\u001b[0m\u001b[1;33m,\u001b[0m\u001b[1;36m9\u001b[0m\u001b[1;33m,\u001b[0m\u001b[1;36m0\u001b[0m\u001b[1;33m]\u001b[0m\u001b[1;33m]\u001b[0m\u001b[1;33m,\u001b[0m\u001b[0maxis\u001b[0m\u001b[1;33m=\u001b[0m\u001b[1;36m2\u001b[0m\u001b[1;33m)\u001b[0m\u001b[1;33m\u001b[0m\u001b[1;33m\u001b[0m\u001b[0m\n\u001b[0m\u001b[0;32m      3\u001b[0m \u001b[0mprint\u001b[0m\u001b[1;33m(\u001b[0m\u001b[1;34m'Array b: \\n'\u001b[0m\u001b[1;33m,\u001b[0m\u001b[0mb\u001b[0m\u001b[1;33m)\u001b[0m\u001b[1;33m\u001b[0m\u001b[1;33m\u001b[0m\u001b[0m\n\u001b[0;32m      4\u001b[0m \u001b[0mprint\u001b[0m\u001b[1;33m(\u001b[0m\u001b[1;34m'Array b shpae: '\u001b[0m\u001b[1;33m,\u001b[0m\u001b[0mb\u001b[0m\u001b[1;33m.\u001b[0m\u001b[0mshape\u001b[0m\u001b[1;33m)\u001b[0m\u001b[1;33m\u001b[0m\u001b[1;33m\u001b[0m\u001b[0m\n\u001b[0;32m      5\u001b[0m \u001b[0mprint\u001b[0m\u001b[1;33m(\u001b[0m\u001b[1;34m'Array b dimension: '\u001b[0m\u001b[1;33m,\u001b[0m\u001b[0mb\u001b[0m\u001b[1;33m.\u001b[0m\u001b[0mndim\u001b[0m\u001b[1;33m)\u001b[0m\u001b[1;33m\u001b[0m\u001b[1;33m\u001b[0m\u001b[0m\n",
      "\u001b[1;32mC:\\ProgramData\\Anaconda3\\lib\\site-packages\\numpy\\lib\\function_base.py\u001b[0m in \u001b[0;36mappend\u001b[1;34m(arr, values, axis)\u001b[0m\n\u001b[0;32m   4692\u001b[0m         \u001b[0mvalues\u001b[0m \u001b[1;33m=\u001b[0m \u001b[0mravel\u001b[0m\u001b[1;33m(\u001b[0m\u001b[0mvalues\u001b[0m\u001b[1;33m)\u001b[0m\u001b[1;33m\u001b[0m\u001b[1;33m\u001b[0m\u001b[0m\n\u001b[0;32m   4693\u001b[0m         \u001b[0maxis\u001b[0m \u001b[1;33m=\u001b[0m \u001b[0marr\u001b[0m\u001b[1;33m.\u001b[0m\u001b[0mndim\u001b[0m\u001b[1;33m-\u001b[0m\u001b[1;36m1\u001b[0m\u001b[1;33m\u001b[0m\u001b[1;33m\u001b[0m\u001b[0m\n\u001b[1;32m-> 4694\u001b[1;33m     \u001b[1;32mreturn\u001b[0m \u001b[0mconcatenate\u001b[0m\u001b[1;33m(\u001b[0m\u001b[1;33m(\u001b[0m\u001b[0marr\u001b[0m\u001b[1;33m,\u001b[0m \u001b[0mvalues\u001b[0m\u001b[1;33m)\u001b[0m\u001b[1;33m,\u001b[0m \u001b[0maxis\u001b[0m\u001b[1;33m=\u001b[0m\u001b[0maxis\u001b[0m\u001b[1;33m)\u001b[0m\u001b[1;33m\u001b[0m\u001b[1;33m\u001b[0m\u001b[0m\n\u001b[0m\u001b[0;32m   4695\u001b[0m \u001b[1;33m\u001b[0m\u001b[0m\n\u001b[0;32m   4696\u001b[0m \u001b[1;33m\u001b[0m\u001b[0m\n",
      "\u001b[1;31mAxisError\u001b[0m: axis 2 is out of bounds for array of dimension 2"
     ]
    }
   ],
   "source": [
    "print('now append [[9,8,7],[1,4,8]] to axis=2')\n",
    "b=np.append(a,[[9,8,7],[1,4,8],[9,9,0]],axis=2)\n",
    "print('Array b: \\n',b)\n",
    "print('Array b shpae: ',b.shape)\n",
    "print('Array b dimension: ',b.ndim)"
   ]
  },
  {
   "cell_type": "markdown",
   "metadata": {},
   "source": [
    " #### what i understood from above error is that alway ndime alway greater tha axis value.\n",
    " \n",
    " #### below example explains more on this"
   ]
  },
  {
   "cell_type": "code",
   "execution_count": 105,
   "metadata": {},
   "outputs": [
    {
     "name": "stdout",
     "output_type": "stream",
     "text": [
      "Array a:\n",
      " [[[ 0  1]\n",
      "  [ 2  3]\n",
      "  [ 4  5]]\n",
      "\n",
      " [[ 6  7]\n",
      "  [ 8  9]\n",
      "  [10 11]]]\n",
      "Array a shape:  (2, 3, 2)\n",
      "Array a dimension:  3\n"
     ]
    }
   ],
   "source": [
    "a=np.arange(12).reshape(2,3,2)\n",
    "print('Array a:\\n',a)\n",
    "print('Array a shape: ',a.shape)\n",
    "print('Array a dimension: ',a.ndim)"
   ]
  },
  {
   "cell_type": "code",
   "execution_count": 116,
   "metadata": {},
   "outputs": [
    {
     "name": "stdout",
     "output_type": "stream",
     "text": [
      "Array b: \n",
      " [[[ 0  1  9  8]\n",
      "  [ 2  3  1  4]\n",
      "  [ 4  5  9  9]]\n",
      "\n",
      " [[ 6  7  9  8]\n",
      "  [ 8  9  1  4]\n",
      "  [10 11  9  9]]]\n",
      "Array b shpae:  (2, 3, 4)\n",
      "Array b dimension:  3\n"
     ]
    }
   ],
   "source": [
    "b=np.append(a,[[[9,8],[1,4],[9,9]],[[9,8],[1,4],[9,9]]],axis=2)\n",
    "print('Array b: \\n',b)\n",
    "print('Array b shpae: ',b.shape)\n",
    "print('Array b dimension: ',b.ndim)"
   ]
  },
  {
   "cell_type": "markdown",
   "metadata": {},
   "source": [
    "### 8.3 numpy.insert\n",
    "    numpy.insert(arr, obj, values, axis)\n",
    "    arr-->Array\n",
    "    obj--> Index location insertion made\n",
    "    values--> Values to inserted to index location\n",
    "    axis--> axis defined for insertion"
   ]
  },
  {
   "cell_type": "code",
   "execution_count": 117,
   "metadata": {},
   "outputs": [],
   "source": [
    "a = np.array([[1,2],[3,4],[5,6]]) "
   ]
  },
  {
   "cell_type": "code",
   "execution_count": 118,
   "metadata": {},
   "outputs": [
    {
     "name": "stdout",
     "output_type": "stream",
     "text": [
      "Initial Array a: \n",
      " [[1 2]\n",
      " [3 4]\n",
      " [5 6]]\n"
     ]
    }
   ],
   "source": [
    "print('Initial Array a: \\n',a)"
   ]
  },
  {
   "cell_type": "code",
   "execution_count": 120,
   "metadata": {},
   "outputs": [
    {
     "name": "stdout",
     "output_type": "stream",
     "text": [
      "if axis parameter not passed then it will flattened and inserted to index location\n",
      "After inserting to array b:\n",
      " [ 1  2  3  4  5  9 10  6]\n"
     ]
    }
   ],
   "source": [
    "print('if axis parameter not passed then it will flattened and inserted to index location')\n",
    "b=np.insert(a,5,[9,10])\n",
    "print('After inserting to array b:\\n',b)"
   ]
  },
  {
   "cell_type": "code",
   "execution_count": 123,
   "metadata": {},
   "outputs": [
    {
     "name": "stdout",
     "output_type": "stream",
     "text": [
      "axis=0 then\n",
      "After inserting to array b at axis=0:\n",
      " [[ 1  2]\n",
      " [19 99]\n",
      " [ 3  4]\n",
      " [ 5  6]]\n"
     ]
    }
   ],
   "source": [
    "print('axis=0 then')\n",
    "b=np.insert(a,1,[19,99],axis=0)\n",
    "print('After inserting to array b at axis=0:\\n',b)"
   ]
  },
  {
   "cell_type": "code",
   "execution_count": 125,
   "metadata": {},
   "outputs": [
    {
     "name": "stdout",
     "output_type": "stream",
     "text": [
      "axis=1 then\n",
      "After inserting to array b at axis=0:\n",
      " [[ 1 99  2]\n",
      " [ 3 99  4]\n",
      " [ 5 99  6]]\n"
     ]
    }
   ],
   "source": [
    "print('axis=1 then')\n",
    "b=np.insert(a,1,99,axis=1)\n",
    "print('After inserting to array b at axis=0:\\n',b)"
   ]
  },
  {
   "cell_type": "markdown",
   "metadata": {},
   "source": [
    "### 8.4 numpy.delete"
   ]
  },
  {
   "cell_type": "code",
   "execution_count": 126,
   "metadata": {},
   "outputs": [
    {
     "name": "stdout",
     "output_type": "stream",
     "text": [
      "Initial array a:\n",
      " [[ 0  1  2  3  4  5]\n",
      " [ 6  7  8  9 10 11]\n",
      " [12 13 14 15 16 17]\n",
      " [18 19 20 21 22 23]]\n"
     ]
    }
   ],
   "source": [
    "a=np.arange(24).reshape(4,6)\n",
    "print('Initial array a:\\n',a)"
   ]
  },
  {
   "cell_type": "code",
   "execution_count": 128,
   "metadata": {},
   "outputs": [
    {
     "name": "stdout",
     "output_type": "stream",
     "text": [
      "if axis parameter not passed then it will flattened and deleted from the index location\n",
      "After deleting from array b:\n",
      " [ 0  1  2  3  4  5  6  7  8  9 10 11 12 13 14 16 17 18 19 20 21 22 23]\n"
     ]
    }
   ],
   "source": [
    "print('if axis parameter not passed then it will flattened and deleted from the index location')\n",
    "b=np.delete(a,15)\n",
    "print('After deleting from array b:\\n',b)"
   ]
  },
  {
   "cell_type": "code",
   "execution_count": 129,
   "metadata": {},
   "outputs": [
    {
     "name": "stdout",
     "output_type": "stream",
     "text": [
      "now delete from particular row\n",
      "After deleting column from array b:\n",
      " [[ 0  1  2  3  4  5]\n",
      " [ 6  7  8  9 10 11]\n",
      " [12 13 14 15 16 17]]\n"
     ]
    }
   ],
   "source": [
    "print('now delete from particular row')\n",
    "b=np.delete(a,3,axis=0)\n",
    "print('After deleting column from array b:\\n',b)"
   ]
  },
  {
   "cell_type": "code",
   "execution_count": 130,
   "metadata": {},
   "outputs": [
    {
     "name": "stdout",
     "output_type": "stream",
     "text": [
      "now delete from particular row at axis=1\n",
      "After deleting column from array b:\n",
      " [[ 0  1  2  4  5]\n",
      " [ 6  7  8 10 11]\n",
      " [12 13 14 16 17]\n",
      " [18 19 20 22 23]]\n"
     ]
    }
   ],
   "source": [
    "print('now delete from particular row at axis=1')\n",
    "b=np.delete(a,3,axis=1)\n",
    "print('After deleting column from array b:\\n',b)"
   ]
  },
  {
   "cell_type": "code",
   "execution_count": 134,
   "metadata": {},
   "outputs": [
    {
     "name": "stdout",
     "output_type": "stream",
     "text": [
      "delete alternative values(devisible by slice value defined) from array \n",
      "After slicing b: \n",
      " [ 1  2  3  5  6  7  9 10 11 13 14 15 17 18 19 21 22 23]\n",
      "dont see 4,8,16\n"
     ]
    }
   ],
   "source": [
    "print('delete alternative values(devisible by slice value defined) from array ')\n",
    "b=np.delete(a,np.s_[::4])\n",
    "print('After slicing b: \\n',b)\n",
    "print('dont see 4,8,16')"
   ]
  },
  {
   "cell_type": "markdown",
   "metadata": {},
   "source": [
    "### 8.5 numpy.unique\n",
    "    numpy.unique(arr, return_index, return_inverse, return_counts)\n",
    "    arr--> Array\n",
    "    return_index--> If True, returns the indices of elements in the input array\n",
    "    return_inverse--> If True, returns the indices of unique array, which can be used to reconstruct the input array\n",
    "    return_count --> If True, returns the number of times the element in unique array appears in the original array"
   ]
  },
  {
   "cell_type": "code",
   "execution_count": 135,
   "metadata": {},
   "outputs": [
    {
     "name": "stdout",
     "output_type": "stream",
     "text": [
      "Initial Array a:\n",
      " [5 2 6 2 7 5 2 3 1 6 8 2 9 9 0]\n"
     ]
    }
   ],
   "source": [
    "import numpy as np \n",
    "a = np.array([5,2,6,2,7,5,2,3,1,6,8,2,9,9,0,]) \n",
    "print('Initial Array a:\\n',a)"
   ]
  },
  {
   "cell_type": "code",
   "execution_count": 136,
   "metadata": {},
   "outputs": [
    {
     "name": "stdout",
     "output_type": "stream",
     "text": [
      "unique values of the initial array:\n",
      " [0 1 2 3 5 6 7 8 9]\n"
     ]
    }
   ],
   "source": [
    "print('unique values of the initial array:\\n',np.unique(a))"
   ]
  },
  {
   "cell_type": "code",
   "execution_count": 137,
   "metadata": {},
   "outputs": [
    {
     "name": "stdout",
     "output_type": "stream",
     "text": [
      "unique array indices: \n",
      " [14  8  1  7  0  2  4 10 12]\n"
     ]
    }
   ],
   "source": [
    "uniq, indices=np.unique(a,return_index=True)\n",
    "print('unique array indices: \\n',indices)"
   ]
  },
  {
   "cell_type": "code",
   "execution_count": 140,
   "metadata": {},
   "outputs": [
    {
     "name": "stdout",
     "output_type": "stream",
     "text": [
      "indices of unique array : \n",
      " [0 1 2 3 5 6 7 8 9]\n",
      "indices   : \n",
      " [4 2 5 2 6 4 2 3 1 5 7 2 8 8 0]\n"
     ]
    }
   ],
   "source": [
    "uniq, indices=np.unique(a,return_inverse=True)\n",
    "print('indices of unique array : \\n',uniq)\n",
    "print('indices   : \\n',indices)"
   ]
  },
  {
   "cell_type": "code",
   "execution_count": 141,
   "metadata": {},
   "outputs": [
    {
     "name": "stdout",
     "output_type": "stream",
     "text": [
      "reconstruct original index: \n",
      " [5 2 6 2 7 5 2 3 1 6 8 2 9 9 0]\n"
     ]
    }
   ],
   "source": [
    "print('reconstruct original index: \\n',uniq[indices])"
   ]
  },
  {
   "cell_type": "code",
   "execution_count": 143,
   "metadata": {},
   "outputs": [
    {
     "name": "stdout",
     "output_type": "stream",
     "text": [
      "Return the count of repetitions of unique elements:\n",
      "[0 1 2 3 5 6 7 8 9]\n",
      "\n",
      "\n",
      "[1 1 4 1 2 2 1 1 2]\n"
     ]
    }
   ],
   "source": [
    "uniq,indices = np.unique(a,return_counts = True) \n",
    "print ('Return the count of repetitions of unique elements:' )\n",
    "print(uniq)\n",
    "print('\\n')\n",
    "print(indices)"
   ]
  },
  {
   "cell_type": "code",
   "execution_count": null,
   "metadata": {},
   "outputs": [],
   "source": []
  }
 ],
 "metadata": {
  "kernelspec": {
   "display_name": "Python 3",
   "language": "python",
   "name": "python3"
  },
  "language_info": {
   "codemirror_mode": {
    "name": "ipython",
    "version": 3
   },
   "file_extension": ".py",
   "mimetype": "text/x-python",
   "name": "python",
   "nbconvert_exporter": "python",
   "pygments_lexer": "ipython3",
   "version": "3.7.4"
  }
 },
 "nbformat": 4,
 "nbformat_minor": 2
}
